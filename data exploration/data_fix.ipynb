{
 "cells": [
  {
   "cell_type": "code",
   "execution_count": 3,
   "metadata": {},
   "outputs": [],
   "source": [
    "import numpy as np\n",
    "import matplotlib.pyplot as plt\n",
    "import pandas as pd\n",
    "import os\n",
    "from google.cloud import storage\n",
    "import pydicom\n",
    "import itertools"
   ]
  },
  {
   "cell_type": "code",
   "execution_count": 4,
   "metadata": {},
   "outputs": [],
   "source": [
    "def add_missing_attributes(data_path, attributes_dict):\n",
    "    \"\"\"\n",
    "    data_path: path where files to modify are (train_images/subject_ID/run_ID/image_ID.dcm)\n",
    "    attribute_ids: dict of attributes that need to be added, e.g. attribute[0x0080060] = ('CS', 'CT')\n",
    "    \"\"\"\n",
    "    \n",
    "    dcm = pydicom.dcmread(data_path)\n",
    "    for tag, (VR, value) in attributes_dict.items():\n",
    "        if not tag in dcm:\n",
    "            dcm.add_new(tag, VR, value)\n",
    "            dcm.save_as(data_path)\n"
   ]
  },
  {
   "cell_type": "code",
   "execution_count": 5,
   "metadata": {},
   "outputs": [],
   "source": [
    "def get_blobs(bucket_name, prefix):\n",
    "    \"\"\"Lists all the blobs in the bucket.\"\"\"\n",
    "    storage_client = storage.Client()\n",
    "    bucket = storage_client.get_bucket(bucket_name)\n",
    "    blobs = bucket.list_blobs(prefix=prefix)\n",
    "    return bucket, blobs"
   ]
  },
  {
   "cell_type": "code",
   "execution_count": 6,
   "metadata": {},
   "outputs": [],
   "source": [
    "bucket, blobs = get_blobs('rsna-competition-2023', 'train_images')\n",
    "\n",
    "attributes_dict = {0x0080060 : ('CS', 'CT')}\n",
    "blobs_sep = [list(blobs) for _, blobs in itertools.groupby(blobs, lambda blob: blob.name.split('/')[1:3])] "
   ]
  },
  {
   "cell_type": "code",
   "execution_count": 7,
   "metadata": {},
   "outputs": [],
   "source": [
    "for run in blobs_sep:\n",
    "    for blob in run[::10]:\n",
    "        # check output file exists\n",
    "        output_path = os.path.join('train_images_fix', blob.name)\n",
    "        if not bucket.blob(output_path).exists():\n",
    "            \n",
    "        if blob.name.endswith('.dcm'):\n",
    "            # get the file from the bucket\n",
    "            blob.download_to_filename('temp.dcm')\n",
    "            # add the missing attributes\n",
    "            add_missing_attributes('temp.dcm', attributes_dict)        \n",
    "            # save in output folder\n",
    "            output_path = os.path.join('train_images_fix', blob.name)\n",
    "            bucket.blob(output_path).upload_from_filename('temp.dcm')\n",
    "            # delete temp file\n",
    "            os.remove('temp.dcm')\n"
   ]
  },
  {
   "cell_type": "code",
   "execution_count": null,
   "metadata": {},
   "outputs": [],
   "source": []
  }
 ],
 "metadata": {
  "kernelspec": {
   "display_name": "CS502",
   "language": "python",
   "name": "python3"
  },
  "language_info": {
   "codemirror_mode": {
    "name": "ipython",
    "version": 3
   },
   "file_extension": ".py",
   "mimetype": "text/x-python",
   "name": "python",
   "nbconvert_exporter": "python",
   "pygments_lexer": "ipython3",
   "version": "3.9.18"
  }
 },
 "nbformat": 4,
 "nbformat_minor": 2
}
